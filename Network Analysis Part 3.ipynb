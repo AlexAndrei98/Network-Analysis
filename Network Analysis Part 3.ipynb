{
 "cells": [
  {
   "cell_type": "code",
   "execution_count": 1,
   "metadata": {},
   "outputs": [],
   "source": [
    "import networkx as nx\n",
    "import matplotlib.pyplot as plt \n",
    "import numpy as np\n",
    "import pandas as pd\n",
    "from collections import defaultdict\n",
    "from functions import get_nodes_from_partition\n",
    "from data.data3 import edges, nodes"
   ]
  },
  {
   "cell_type": "markdown",
   "metadata": {},
   "source": [
    " ### Our Data\n",
    " The graph that you'll be working with is a bipartite graph describing the American Revolution. There are two node partitions - ```'people'``` and ```'clubs'```, and edges denote a person being a member of a club."
   ]
  },
  {
   "cell_type": "code",
   "execution_count": 2,
   "metadata": {},
   "outputs": [],
   "source": [
    "G = nx.Graph()\n",
    "G.add_edges_from(edges)\n",
    "G.add_nodes_from(nodes)"
   ]
  },
  {
   "cell_type": "markdown",
   "metadata": {},
   "source": [
    "### Computing projection\n",
    "It's now time to compute the projection of a bipartite graph to the nodes on one of its partitions. This will help us gain practice with converting between a bipartite version of a graph and its unipartite projections. Tthe \"projection\" of a graph onto one of its partitions is the connectivity of the nodes in that partition conditioned on connections to nodes on the other partition. Made more concretely, you can think of the \"connectivity of customers based on shared purchases\"."
   ]
  },
  {
   "cell_type": "code",
   "execution_count": 3,
   "metadata": {},
   "outputs": [],
   "source": [
    "# Prepare the nodelists needed for computing projections: people, clubs\n",
    "people = [n for n in G.nodes() if G.node[n]['bipartite'] == 'people']\n",
    "clubs = [n for n, d in G.nodes(data=True) if d['bipartite'] == 'clubs']\n",
    "\n",
    "# Compute the people and clubs projections: peopleG, clubsG\n",
    "peopleG = nx.bipartite.projected_graph(G, people)\n",
    "clubsG = nx.bipartite.projected_graph(G, clubs)"
   ]
  },
  {
   "cell_type": "markdown",
   "metadata": {},
   "source": [
    "### Plot degree centrality on projection\n",
    "Now, we're going to compare the degree centrality distributions for each of the following graphs: the original graph ```G```, the people graph projection ```peopleG```, and the clubs graph projection ```clubsG```. This will reinforce the difference in degree centrality score computation between bipartite and unipartite versions of degree centrality metrics."
   ]
  },
  {
   "cell_type": "code",
   "execution_count": 4,
   "metadata": {},
   "outputs": [
    {
     "data": {
      "image/png": "[encoded data removed]",
      "text/plain": [
       "<Figure size 432x288 with 1 Axes>"
      ]
     },
     "metadata": {},
     "output_type": "display_data"
    },
    {
     "data": {
      "image/png": "[encoded data removed]",
      "text/plain": [
       "<Figure size 432x288 with 1 Axes>"
      ]
     },
     "metadata": {},
     "output_type": "display_data"
    },
    {
     "data": {
      "image/png": "[encoded data removed]",
      "text/plain": [
       "<Figure size 432x288 with 1 Axes>"
      ]
     },
     "metadata": {},
     "output_type": "display_data"
    }
   ],
   "source": [
    "# Plot the degree centrality distribution of both node partitions from the original graph\n",
    "plt.figure() \n",
    "original_dc = nx.bipartite.degree_centrality(G, people)  \n",
    "plt.hist(list(original_dc.values()), alpha=0.5)\n",
    "plt.yscale('log')\n",
    "plt.title('Bipartite degree centrality')\n",
    "plt.show()\n",
    "\n",
    "\n",
    "# Plot the degree centrality distribution of the peopleG graph\n",
    "plt.figure()\n",
    "people_dc = nx.degree_centrality(peopleG)\n",
    "plt.hist(list(people_dc.values()))\n",
    "plt.yscale('log')\n",
    "plt.title('Degree centrality of people partition')\n",
    "plt.show()\n",
    "\n",
    "# Plot the degree centrality distribution of the clubsG graph\n",
    "plt.figure()\n",
    "clubs_dc = nx.degree_centrality(clubsG)\n",
    "plt.hist(list(clubs_dc.values()))\n",
    "plt.yscale('log')\n",
    "plt.title('Degree centrality of clubs partition')\n",
    "plt.show()\n"
   ]
  },
  {
   "cell_type": "markdown",
   "metadata": {},
   "source": [
    "### Compute adjacency matrix\n",
    "Now, we'll get some practice using matrices and sparse matrix multiplication to compute projections! In this cell, we'll use the matrix multiplication operator ```@``` that was introduced in Python 3.5.\n",
    "\n",
    "We'll continue working with the American Revolution graph. The two partitions of interest here are ```'people'``` and ```'clubs'```."
   ]
  },
  {
   "cell_type": "code",
   "execution_count": 5,
   "metadata": {},
   "outputs": [
    {
     "name": "stdout",
     "output_type": "stream",
     "text": [
      "  (0, 208)\t1\n",
      "  (0, 207)\t1\n",
      "  (0, 206)\t1\n",
      "  (0, 205)\t1\n",
      "  (0, 204)\t1\n",
      "  (0, 203)\t1\n",
      "  (0, 202)\t1\n",
      "  (0, 201)\t1\n",
      "  (0, 200)\t1\n",
      "  (0, 199)\t1\n",
      "  (0, 198)\t1\n",
      "  (0, 197)\t1\n",
      "  (0, 196)\t1\n",
      "  (0, 195)\t1\n",
      "  (0, 194)\t1\n",
      "  (0, 193)\t1\n",
      "  (0, 192)\t1\n",
      "  (0, 191)\t1\n",
      "  (0, 190)\t1\n",
      "  (0, 189)\t1\n",
      "  (0, 188)\t1\n",
      "  (0, 187)\t1\n",
      "  (0, 186)\t1\n",
      "  (0, 185)\t1\n",
      "  (0, 184)\t1\n",
      "  :\t:\n",
      "  (252, 141)\t1\n",
      "  (252, 139)\t1\n",
      "  (252, 136)\t1\n",
      "  (252, 131)\t1\n",
      "  (252, 130)\t1\n",
      "  (252, 128)\t1\n",
      "  (252, 119)\t1\n",
      "  (252, 117)\t1\n",
      "  (252, 89)\t1\n",
      "  (252, 73)\t1\n",
      "  (252, 67)\t1\n",
      "  (252, 66)\t1\n",
      "  (252, 56)\t1\n",
      "  (252, 55)\t1\n",
      "  (252, 10)\t1\n",
      "  (253, 253)\t1\n",
      "  (253, 220)\t1\n",
      "  (253, 219)\t1\n",
      "  (253, 134)\t1\n",
      "  (253, 120)\t1\n",
      "  (253, 117)\t1\n",
      "  (253, 91)\t1\n",
      "  (253, 43)\t1\n",
      "  (253, 41)\t1\n",
      "  (253, 26)\t1\n"
     ]
    }
   ],
   "source": [
    "# Get the list of people and list of clubs from the graph: people_nodes, clubs_nodes\n",
    "people_nodes = get_nodes_from_partition(G, 'people')\n",
    "clubs_nodes = get_nodes_from_partition(G, 'clubs')\n",
    "\n",
    "# Compute the biadjacency matrix: bi_matrix\n",
    "bi_matrix = nx.bipartite.biadjacency_matrix(G, row_order=people_nodes, column_order=clubs_nodes)\n",
    "\n",
    "# Compute the user-user projection: user_matrix\n",
    "user_matrix = bi_matrix @ bi_matrix.T\n",
    "\n",
    "print(user_matrix)"
   ]
  },
  {
   "cell_type": "markdown",
   "metadata": {},
   "source": [
    "### Find shared membership: Transposition \n",
    "We can observe that we lose the metadata from a graph when we go to a sparse matrix representation. We're now going to impute the metadata back so that we can learn more about shared membership.\n",
    "\n",
    "Here, the ```np.where()``` function will prove useful. This is what it does: given an array, say, ```a = [1, 5, 9, 5]```, if you want to get the indices where the value is equal to ```5```, you can use ```idxs = np.where(a == 5)```. This gives you back an array in a tuple, ```(array([1, 3]),)```. To access those indices, you would want to index into the tuple as ```idxs[0]```."
   ]
  },
  {
   "cell_type": "code",
   "execution_count": 6,
   "metadata": {},
   "outputs": [
    {
     "name": "stdout",
     "output_type": "stream",
     "text": [
      "Number of clubs: 5\n",
      "People with the most number of memberships:\n",
      "- Revere.Paul\n",
      "- Warren.Joseph\n",
      "People with most number of shared memberships:\n",
      "- Church.Benjamin, Warren.Joseph\n",
      "- Church.Benjamin, Adams.Samuel\n",
      "- Revere.Paul, Warren.Joseph\n",
      "- Chase.Thomas, Bass.Henry\n",
      "- Adams.Samuel, Warren.Joseph\n",
      "- Adams.Samuel, Church.Benjamin\n",
      "- Bass.Henry, Chase.Thomas\n",
      "- Warren.Joseph, Adams.Samuel\n",
      "- Warren.Joseph, Revere.Paul\n",
      "- Warren.Joseph, Church.Benjamin\n"
     ]
    }
   ],
   "source": [
    "import numpy as np \n",
    "\n",
    "# Find out the names of people who were members of the most number of clubs\n",
    "diag = user_matrix.diagonal()             \n",
    "indices = np.where(diag == diag.max())[0]\n",
    "print('Number of clubs: {0}'.format(diag.max()))\n",
    "print('People with the most number of memberships:')\n",
    "for i in indices:\n",
    "    print('- {0}'.format(people_nodes[i]))  \n",
    "\n",
    "# Set the diagonal to zero and convert it to a coordinate matrix format\n",
    "user_matrix.setdiag(0)\n",
    "users_coo = user_matrix.tocoo()\n",
    "\n",
    "# Find pairs of users who shared membership in the most number of clubs\n",
    "indices = np.where(users_coo.data == users_coo.data.max())[0] \n",
    "print('People with most number of shared memberships:')\n",
    "for idx in indices:\n",
    "    print('- {0}, {1}'.format(people_nodes[users_coo.row[idx]], people_nodes[users_coo.col[idx]])) \n"
   ]
  },
  {
   "cell_type": "code",
   "execution_count": null,
   "metadata": {},
   "outputs": [],
   "source": []
  }
 ],
 "metadata": {
  "kernelspec": {
   "display_name": "Python 3",
   "language": "python",
   "name": "python3"
  },
  "language_info": {
   "codemirror_mode": {
    "name": "ipython",
    "version": 3
   },
   "file_extension": ".py",
   "mimetype": "text/x-python",
   "name": "python",
   "nbconvert_exporter": "python",
   "pygments_lexer": "ipython3",
   "version": "3.6.5"
  }
 },
 "nbformat": 4,
 "nbformat_minor": 2
}
